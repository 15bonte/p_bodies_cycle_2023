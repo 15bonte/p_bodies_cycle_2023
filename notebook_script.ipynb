{
 "cells": [
  {
   "attachments": {},
   "cell_type": "markdown",
   "metadata": {},
   "source": [
    "# RNA localization script"
   ]
  },
  {
   "attachments": {},
   "cell_type": "markdown",
   "metadata": {},
   "source": [
    "### Library imports"
   ]
  },
  {
   "cell_type": "code",
   "execution_count": null,
   "metadata": {},
   "outputs": [],
   "source": [
    "import os\n",
    "\n",
    "os.environ[\"KMP_DUPLICATE_LIB_OK\"] = \"True\"\n",
    "\n",
    "from cellpose import models\n",
    "import bigfish.stack as stack\n",
    "import torch\n",
    "import numpy as np\n",
    "import bigfish.detection as detection\n",
    "import bigfish.multistack as multistack\n",
    "import bigfish.plot as plot\n",
    "import bigfish.segmentation as segmentation\n",
    "import pandas as pd "
   ]
  },
  {
   "attachments": {},
   "cell_type": "markdown",
   "metadata": {},
   "source": [
    "### Local paths"
   ]
  },
  {
   "attachments": {},
   "cell_type": "markdown",
   "metadata": {},
   "source": [
    "TIF image must be written without the \".TIF\" extension. It should be located in the input folder."
   ]
  },
  {
   "cell_type": "code",
   "execution_count": null,
   "metadata": {},
   "outputs": [],
   "source": [
    "path_input = r\"C:\\Users\\thoma\\data\\Data Adham\\Modified script\\input\"\n",
    "path_output = r\"C:\\Users\\thoma\\data\\Data Adham\\Modified script\\output\"\n",
    "\n",
    "tif_file_name = \"1_TOP2A smFISH 2_p-bodies 3_DAPI\""
   ]
  },
  {
   "attachments": {},
   "cell_type": "markdown",
   "metadata": {},
   "source": [
    "Load image"
   ]
  },
  {
   "cell_type": "code",
   "execution_count": null,
   "metadata": {},
   "outputs": [],
   "source": [
    "path = os.path.join(path_input, f\"{tif_file_name}.TIF\")\n",
    "image = stack.read_image(path)"
   ]
  },
  {
   "attachments": {},
   "cell_type": "markdown",
   "metadata": {},
   "source": [
    "Read different channels"
   ]
  },
  {
   "cell_type": "code",
   "execution_count": null,
   "metadata": {},
   "outputs": [],
   "source": [
    "# To avoid using a too big image, we crop it\n",
    "PICTURE_MAX_SIZE = 1000\n",
    "\n",
    "# Here one may change the channels order depending on the data\n",
    "rna1 = np.copy(image[:, :, 0])\n",
    "rna1 = rna1[0:PICTURE_MAX_SIZE,0:PICTURE_MAX_SIZE]\n",
    "print(\"smfish channel\")\n",
    "print(\"\\r shape: {0}\".format(rna1.shape))\n",
    "print(\"\\r dtype: {0}\".format(rna1.dtype))\n",
    "# Note that here we use only one RNA channel, but you can use several by changing following line\n",
    "rnas = [rna1]\n",
    "\n",
    "gfp = np.copy(image[:, :, 1])\n",
    "gfp = gfp[0:PICTURE_MAX_SIZE,0:PICTURE_MAX_SIZE]\n",
    "print(\"GFP channel\")\n",
    "print(\"\\r shape: {0}\".format(gfp.shape))\n",
    "print(\"\\r dtype: {0}\".format(gfp.dtype))\n",
    "\n",
    "nuc = np.copy(image[:, :, 2])\n",
    "nuc = nuc[0:PICTURE_MAX_SIZE,0:PICTURE_MAX_SIZE]\n",
    "print(\"DAPI channel\")\n",
    "print(\"\\r shape: {0}\".format(nuc.shape))\n",
    "print(\"\\r dtype: {0}\".format(nuc.dtype))"
   ]
  },
  {
   "attachments": {},
   "cell_type": "markdown",
   "metadata": {},
   "source": [
    "Plot loaded images"
   ]
  },
  {
   "cell_type": "code",
   "execution_count": null,
   "metadata": {},
   "outputs": [],
   "source": [
    "plot.plot_images([*rnas, gfp, nuc], contrast=True)"
   ]
  },
  {
   "attachments": {},
   "cell_type": "markdown",
   "metadata": {},
   "source": [
    "## 1 - Nucleus and cell segmentation using Cellpose & Bigfish"
   ]
  },
  {
   "attachments": {},
   "cell_type": "markdown",
   "metadata": {},
   "source": [
    "Parameters"
   ]
  },
  {
   "cell_type": "code",
   "execution_count": null,
   "metadata": {},
   "outputs": [],
   "source": [
    "# Typical nucleus diameter, in pixels\n",
    "NUCLEUS_DIAMETER = 150 \n",
    "\n",
    "# Minimum intensity on the RNA channel to be considered as cell instead of background\n",
    "RNA_BACKGROUND_THRESHOLD = 400"
   ]
  },
  {
   "attachments": {},
   "cell_type": "markdown",
   "metadata": {},
   "source": [
    "Run Cellpose nucleus segmentation"
   ]
  },
  {
   "cell_type": "code",
   "execution_count": null,
   "metadata": {},
   "outputs": [],
   "source": [
    "device = torch.device(\"cuda\" if torch.cuda.is_available() else \"cpu\")\n",
    "model = models.Cellpose(model_type=\"nuclei\", device=device)\n",
    "results, _, _, _ = model.eval([nuc], channels=[0, 0], diameter=NUCLEUS_DIAMETER)\n",
    "\n",
    "# Create binary mask form Cellpose segmentation\n",
    "nuc_mask = np.copy(results[0])\n",
    "nuc_mask[nuc_mask > 0] = 1\n",
    "\n",
    "#Labeling\n",
    "nuc_label = np.copy(results[0])\n",
    "nuc_label = np.int64(nuc_label)\n",
    "print(\"nuclei labels\")\n",
    "print(\"\\r shape: {0}\".format(nuc_label.shape))\n",
    "print(\"\\r dtype: {0}\".format(nuc_label.dtype))"
   ]
  },
  {
   "attachments": {},
   "cell_type": "markdown",
   "metadata": {},
   "source": [
    "Plot nucleus segmentation results"
   ]
  },
  {
   "cell_type": "code",
   "execution_count": null,
   "metadata": {},
   "outputs": [],
   "source": [
    "plot.plot_segmentation(nuc, nuc_mask, rescale=True, framesize=(15, 5))\n",
    "print(\"nuclei mask\")\n",
    "print(\"\\r shape: {0}\".format(nuc_mask.shape))\n",
    "print(\"\\r dtype: {0}\".format(nuc_mask.dtype))"
   ]
  },
  {
   "attachments": {},
   "cell_type": "markdown",
   "metadata": {},
   "source": [
    "Perform cell segmentation using Bigfish watershed & save result in output folder"
   ]
  },
  {
   "cell_type": "code",
   "execution_count": null,
   "metadata": {},
   "outputs": [],
   "source": [
    "cell_label = segmentation.cell_watershed(rnas[0], nuc_label, threshold=RNA_BACKGROUND_THRESHOLD, alpha=0.9)\n",
    "print(\"cells labels\")\n",
    "print(\"\\r shape: {0}\".format(cell_label.shape))\n",
    "print(\"\\r dtype: {0}\".format(cell_label.dtype))\n",
    "\n",
    "\n",
    "segmentation_path = os.path.join(path_output, f\"{tif_file_name}_segmentation\")\n",
    "plot.plot_segmentation_boundary(rnas[0], cell_label, nuc_label, framesize=(25, 25), contrast=True, path_output=segmentation_path, show=False)\n",
    "cell_mask = segmentation.thresholding(rnas[0], threshold=RNA_BACKGROUND_THRESHOLD)"
   ]
  },
  {
   "attachments": {},
   "cell_type": "markdown",
   "metadata": {},
   "source": [
    "Plot cell segmentation results"
   ]
  },
  {
   "cell_type": "code",
   "execution_count": null,
   "metadata": {
    "scrolled": true
   },
   "outputs": [],
   "source": [
    "plot.plot_images([cell_mask, cell_label], \n",
    "                 titles=[\"Binary mask\", \"Labelled cells\"], \n",
    "                 framesize=(10, 10))"
   ]
  },
  {
   "attachments": {},
   "cell_type": "markdown",
   "metadata": {},
   "source": [
    "## 2 - RNA molecules counting"
   ]
  },
  {
   "attachments": {},
   "cell_type": "markdown",
   "metadata": {},
   "source": [
    "Improve RNA and GFP contrast"
   ]
  },
  {
   "cell_type": "code",
   "execution_count": null,
   "metadata": {
    "scrolled": true
   },
   "outputs": [],
   "source": [
    "rnas_contrasted = []\n",
    "for rna_image in rnas:\n",
    "    rna_contrasted = stack.rescale(rna_image, channel_to_stretch=0)\n",
    "    rnas_contrasted.append(rna_contrasted)\n",
    "\n",
    "gfp_contrasted = stack.rescale(gfp, channel_to_stretch=0)\n"
   ]
  },
  {
   "attachments": {},
   "cell_type": "markdown",
   "metadata": {},
   "source": [
    "Detect RNA spots and plot results"
   ]
  },
  {
   "cell_type": "code",
   "execution_count": null,
   "metadata": {},
   "outputs": [],
   "source": [
    "spots_rnas = []\n",
    "\n",
    "for rna_image in rnas:\n",
    "    spots_rna, threshold = detection.detect_spots(\n",
    "        images=rna_image,\n",
    "        threshold=None,\n",
    "        remove_duplicate=True,\n",
    "        return_threshold=True,\n",
    "        voxel_size=72,\n",
    "        spot_radius=100)\n",
    "    # Plot detection results\n",
    "    plot.plot_detection(\n",
    "        image=rna_image,\n",
    "        spots=spots_rna,\n",
    "        radius=0.5,\n",
    "        fill=True,\n",
    "        contrast=True,\n",
    "        framesize=(20, 15))\n",
    "    spots_rnas.append(spots_rna)"
   ]
  },
  {
   "attachments": {},
   "cell_type": "markdown",
   "metadata": {},
   "source": [
    "Decompose RNA clusters and plot results"
   ]
  },
  {
   "cell_type": "code",
   "execution_count": null,
   "metadata": {
    "scrolled": true
   },
   "outputs": [],
   "source": [
    "spots_decomposed_rnas = []\n",
    "for spots_rna, rna_image in zip(spots_rnas, rnas):\n",
    "    spots_decomposed_rna, _, _ = detection.decompose_dense(\n",
    "        alpha=0.45, \n",
    "        beta=1, \n",
    "        gamma=5, \n",
    "        image=rna_image,\n",
    "        spots=spots_rna,\n",
    "        voxel_size=72,\n",
    "        spot_radius=100)\n",
    "    print(\"Detected spots before decomposition\")\n",
    "    print(spots_decomposed_rna.shape, spots_decomposed_rna.dtype)\n",
    "    print(\"Detected spots after decomposition\")\n",
    "    print(spots_decomposed_rna.shape, spots_decomposed_rna.dtype)\n",
    "    plot.plot_detection(\n",
    "        image=rna_image,\n",
    "        spots=spots_decomposed_rna,\n",
    "        radius=0.5,\n",
    "        fill=True,\n",
    "        contrast=True,\n",
    "        framesize=(25, 20))\n",
    "    spots_decomposed_rnas.append(spots_decomposed_rna)"
   ]
  },
  {
   "attachments": {},
   "cell_type": "markdown",
   "metadata": {},
   "source": [
    "Remove of out-of-cell spots and plot results"
   ]
  },
  {
   "cell_type": "code",
   "execution_count": null,
   "metadata": {},
   "outputs": [],
   "source": [
    "spots_in_cell_rnas = []\n",
    "\n",
    "for spots_decomposed_rna, rna_image in zip(spots_decomposed_rnas, rnas):\n",
    "    index = 0\n",
    "    spots_in_cell_rna = spots_decomposed_rna\n",
    "    for spot in spots_in_cell_rna:\n",
    "        y = spot[0]\n",
    "        x = spot[1]\n",
    "        if cell_label[y, x] == 0:\n",
    "            spots_in_cell_rna = np.delete(spots_in_cell_rna,index,0)\n",
    "        else:\n",
    "            index += 1\n",
    "    print(\"detected spots everywhere\")\n",
    "    print(\"\\r shape: {0}\".format(spots_decomposed_rna.shape))\n",
    "    print(\"detected RNAs inside cells\")\n",
    "    print(\"\\r shape: {0}\".format(spots_in_cell_rna.shape))\n",
    "\n",
    "    plot.plot_detection(rna_image, spots_in_cell_rna,contrast=True, radius=0.5)\n",
    "    spots_in_cell_rnas.append(spots_in_cell_rna)"
   ]
  },
  {
   "attachments": {},
   "cell_type": "markdown",
   "metadata": {},
   "source": [
    "## 3 - Recruited RNAs counting"
   ]
  },
  {
   "attachments": {},
   "cell_type": "markdown",
   "metadata": {},
   "source": [
    "Parameters"
   ]
  },
  {
   "cell_type": "code",
   "execution_count": null,
   "metadata": {},
   "outputs": [],
   "source": [
    "# Minimum intensity on the gfp channel to be considered as cell instead of background\n",
    "GFP_THRESHOLD = 2100"
   ]
  },
  {
   "attachments": {},
   "cell_type": "markdown",
   "metadata": {},
   "source": [
    "Create GFP binary mask"
   ]
  },
  {
   "cell_type": "code",
   "execution_count": null,
   "metadata": {
    "scrolled": true,
    "slideshow": {
     "slide_type": "-"
    }
   },
   "outputs": [],
   "source": [
    "gfp_mask = segmentation.thresholding(gfp, GFP_THRESHOLD)\n",
    "gfp_mask = stack.median_filter(gfp_mask.astype(np.uint8), \"disk\", 3).astype(bool)\n",
    "gfp_mask = stack.dilation_filter(gfp_mask, \"disk\", 1).astype(bool)"
   ]
  },
  {
   "attachments": {},
   "cell_type": "markdown",
   "metadata": {},
   "source": [
    "Plot segmentation results"
   ]
  },
  {
   "cell_type": "code",
   "execution_count": null,
   "metadata": {},
   "outputs": [],
   "source": [
    "plot.plot_segmentation(gfp, gfp_mask, rescale=True, title=\"dilated mask\", framesize=(20, 20))"
   ]
  },
  {
   "attachments": {},
   "cell_type": "markdown",
   "metadata": {},
   "source": [
    "Get recruited RNAs for each detected cell"
   ]
  },
  {
   "cell_type": "code",
   "execution_count": null,
   "metadata": {
    "scrolled": false
   },
   "outputs": [],
   "source": [
    "rnas_recruited = []\n",
    "for i, spots_in_cell_rna in enumerate(spots_in_cell_rnas):\n",
    "    index = 0\n",
    "    rna_recruited = spots_in_cell_rna\n",
    "    for rna in spots_in_cell_rna:\n",
    "        y = rna[0]\n",
    "        x = rna[1]\n",
    "        if not gfp_mask[y, x]:\n",
    "            rna_recruited = np.delete(rna_recruited,index,0)\n",
    "        else:\n",
    "            index += 1\n",
    "    print(f\"RNA{i+1} molecules in cells\")\n",
    "    print(\"\\r shape: {0}\".format(spots_in_cell_rna.shape))\n",
    "    print(f\"RNA{i+1} molecules in P-bodies\")\n",
    "    print(\"\\r shape: {0}\".format(rna_recruited.shape))\n",
    "    ratio = len(rna_recruited) / len (spots_in_cell_rna) *100\n",
    "    print(\"P-body localized RNAs{0}: {1} ({2:0.3}%)\".format(i+1, len(rna_recruited), ratio))\n",
    "    plot.plot_detection(gfp, rna_recruited,contrast=True, radius=0.5)\n",
    "    rnas_recruited.append(rna_recruited)"
   ]
  },
  {
   "attachments": {},
   "cell_type": "markdown",
   "metadata": {},
   "source": [
    "## 4 - Results summary"
   ]
  },
  {
   "attachments": {},
   "cell_type": "markdown",
   "metadata": {},
   "source": [
    "Extract results for each field-of-view"
   ]
  },
  {
   "cell_type": "code",
   "execution_count": null,
   "metadata": {},
   "outputs": [],
   "source": [
    "fov_results_rnas = []\n",
    "for spots_in_cell_rna, rna_recruited, rna_contrasted in zip(spots_in_cell_rnas, rnas_recruited, rnas_contrasted):\n",
    "    fov_results_rna = multistack.extract_cell(\n",
    "        cell_label=cell_label, \n",
    "        ndim=2, \n",
    "        nuc_label=nuc_label, \n",
    "        rna_coord =spots_in_cell_rna,\n",
    "        others_coord={\"rna_recruited\": rna_recruited},\n",
    "        image=rna_contrasted,\n",
    "        others_image={\"dapi\": nuc, \"smfish\": rna_contrasted, \"gfp\" : gfp_contrasted},\n",
    "        remove_cropped_cell=False)\n",
    "    fov_results_rnas.append(fov_results_rna)\n",
    "print(\"Number of cells identified: {0}\".format(len(fov_results_rna)))"
   ]
  },
  {
   "attachments": {},
   "cell_type": "markdown",
   "metadata": {},
   "source": [
    "Save results as images"
   ]
  },
  {
   "cell_type": "code",
   "execution_count": null,
   "metadata": {},
   "outputs": [],
   "source": [
    "for j, fov_results_rna in enumerate(fov_results_rnas):\n",
    "    for i, cell_results in enumerate(fov_results_rna):\n",
    "        print(\"cell {0}\".format(i))\n",
    "        \n",
    "        # Get cell results\n",
    "        cell_mask = cell_results[\"cell_mask\"]\n",
    "        cell_coord = cell_results[\"cell_coord\"]\n",
    "        nuc_coord = cell_results[\"nuc_coord\"]\n",
    "        nuc_mask = cell_results[\"nuc_mask\"]\n",
    "        rna_coord = cell_results[\"rna_coord\"]\n",
    "        rna_recruit_coord = cell_results[\"rna_recruited\"]\n",
    "        image_contrasted = cell_results[\"image\"]\n",
    "        gfp_contrasted = cell_results[\"gfp\"]\n",
    "        print(\"\\r number of rna {0}\".format(len(rna_coord)))\n",
    "        print(\"\\r number of rna recruited {0}\".format(len(rna_recruit_coord)))\n",
    "        if len(rna_coord) != 0:\n",
    "            ratio = len(rna_recruit_coord) / len (rna_coord) *100\n",
    "        print(\"recruited RNAs: {0} ({1:0.3}%)\".format(len(rna_recruit_coord), ratio))\n",
    "        \n",
    "        # Plot cells\n",
    "        cell_path = os.path.join(path_output, f\"{tif_file_name}_segmentation_cell_{i}\")\n",
    "        plot.plot_cell(\n",
    "            ndim=3,  \n",
    "            image=image_contrasted, \n",
    "            cell_mask=cell_mask, \n",
    "            nuc_mask=nuc_mask, \n",
    "            title=\"Cell {0}\".format(i), \n",
    "            rescale=True, \n",
    "            framesize=(10, 10),\n",
    "            path_output = cell_path,\n",
    "            show=False)\n",
    "        rna_coord_path = os.path.join(path_output, f\"{tif_file_name}_all_RNA{j+1}_cell_{i}\")\n",
    "        plot.plot_detection(image_contrasted, rna_coord,contrast=True,framesize=(15, 15), radius=0.5, path_output=rna_coord_path, show=False)\n",
    "        rna_recruit_coord_path = os.path.join(path_output, f\"{tif_file_name}_recruited_RNA{j+1}_cell_{i}\")\n",
    "        plot.plot_detection(gfp_contrasted, rna_recruit_coord,contrast=True, framesize=(15, 15), radius=0.5, path_output=rna_recruit_coord_path, show=False)\n"
   ]
  },
  {
   "attachments": {},
   "cell_type": "markdown",
   "metadata": {},
   "source": [
    "Merge results and display first elements in table"
   ]
  },
  {
   "cell_type": "code",
   "execution_count": null,
   "metadata": {
    "scrolled": true
   },
   "outputs": [],
   "source": [
    "data_frames = [] \n",
    "for i, fov_results_rna in enumerate(fov_results_rnas):\n",
    "    df = multistack.summarize_extraction_results(fov_results_rna, ndim=2)\n",
    "    df.rename(columns=lambda x: x.replace(\"rna\", f\"rna{i+1}\"), inplace=True)\n",
    "    data_frames.append(df)\n",
    "\n",
    "# Merge data frames if more than 1 RNA channel\n",
    "if  len(data_frames) == 1:\n",
    "    df = data_frames[0] \n",
    "else:\n",
    "    df = None\n",
    "    for i in range(1, len(data_frames)):\n",
    "        cols_to_use = data_frames[i].columns.difference(data_frames[0].columns)\n",
    "        if df is None:\n",
    "            df = pd.merge(data_frames[0], data_frames[i][cols_to_use], left_index=True, right_index=True, how='outer')\n",
    "        else:\n",
    "            df = pd.merge(df, data_frames[i][cols_to_use], left_index=True, right_index=True, how='outer')\n",
    "\n",
    "print(\"shape: {0}\".format(df.shape))\n",
    "df.head(100)"
   ]
  },
  {
   "attachments": {},
   "cell_type": "markdown",
   "metadata": {},
   "source": [
    "Save results in a .csv file"
   ]
  },
  {
   "cell_type": "code",
   "execution_count": null,
   "metadata": {},
   "outputs": [],
   "source": [
    "csv_path = os.path.join(path_output, f\"{tif_file_name}_RNA.csv\")\n",
    "df.to_csv(csv_path)"
   ]
  }
 ],
 "metadata": {
  "celltoolbar": "Format de la Cellule Texte Brut",
  "kernelspec": {
   "display_name": "Python 3",
   "language": "python",
   "name": "python3"
  },
  "language_info": {
   "codemirror_mode": {
    "name": "ipython",
    "version": 3
   },
   "file_extension": ".py",
   "mimetype": "text/x-python",
   "name": "python",
   "nbconvert_exporter": "python",
   "pygments_lexer": "ipython3",
   "version": "3.9.13"
  },
  "vscode": {
   "interpreter": {
    "hash": "796ffd9284134d795723ba5cafcfdc1f535cd5b6486603915882f419c898e93c"
   }
  }
 },
 "nbformat": 4,
 "nbformat_minor": 4
}
